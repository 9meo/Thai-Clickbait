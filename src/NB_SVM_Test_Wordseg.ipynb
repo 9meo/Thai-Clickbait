{
 "cells": [
  {
   "cell_type": "code",
   "execution_count": null,
   "metadata": {},
   "outputs": [],
   "source": [
    "from sklearn.feature_extraction.text import TfidfVectorizer\n",
    "from sklearn.feature_extraction.text import CountVectorizer\n",
    "from sklearn.feature_extraction.text import TfidfTransformer\n",
    "from sklearn.naive_bayes import MultinomialNB\n",
    "from sklearn.neural_network import MLPClassifier\n",
    "from sklearn.pipeline import make_pipeline\n",
    "from sklearn.pipeline import Pipeline\n",
    "from data_helpers import clean_str\n",
    "# from imblearn.under_sampling import RandomUnderSampler\n",
    "# from imblearn.pipeline import make_pipeline as make_pipeline_imb\n",
    "# from imblearn.metrics import classification_report_imbalanced\n",
    "import numpy as np\n",
    "from sklearn.metrics import precision_score\n",
    "from sklearn.metrics import recall_score\n",
    "from sklearn.metrics import f1_score\n",
    "import pandas as pd"
   ]
  },
  {
   "cell_type": "code",
   "execution_count": null,
   "metadata": {},
   "outputs": [],
   "source": [
    "#seg_types = ['seg_tlex','seg_sylSeg','seg_tcc','seg_icu']\n",
    "\n",
    "seg = 'seg_lextoplus'\n",
    "directory = 'Dataset/'\n",
    "positive_file = directory +  'Train/all_clickbait_' + seg + '_Train'\n",
    "negative_file = directory + 'Train/all_non_clickbait_' + seg + '_Train'\n",
    "\n",
    "test_positive_file = directory+'Test/all_clickbait_'+seg+'_Test'\n",
    "test_negative_file = directory+'Test/all_non_clickbait_'+seg+'_Test'"
   ]
  },
  {
   "cell_type": "code",
   "execution_count": null,
   "metadata": {},
   "outputs": [],
   "source": [
    "positive_examples = list(open(positive_file ,encoding=\"utf8\").readlines())\n",
    "positive_examples = [s.strip() for s in positive_examples]\n",
    "negative_examples = list(open(negative_file ,encoding=\"utf8\").readlines())\n",
    "negative_examples = [s.strip() for s in negative_examples]\n",
    "x_text = positive_examples + negative_examples\n",
    "x_text = [clean_str(sent) for sent in x_text]\n",
    "x_text = [s.split(\"|\") for s in x_text]\n",
    "# Generate labels\n",
    "\n",
    "positive_labels = [1 for _ in positive_examples]\n",
    "negative_labels = [0 for _ in negative_examples]\n",
    "y = np.concatenate([positive_labels, negative_labels], 0)"
   ]
  },
  {
   "cell_type": "code",
   "execution_count": null,
   "metadata": {},
   "outputs": [],
   "source": [
    "test_positive_examples = list(open(test_positive_file ,encoding=\"utf8\").readlines())\n",
    "test_positive_examples = [s.strip() for s in test_positive_examples]\n",
    "test_negative_examples = list(open(test_negative_file ,encoding=\"utf8\").readlines())\n",
    "test_negative_examples = [s.strip() for s in test_negative_examples]\n",
    "x_test = test_positive_examples + test_negative_examples\n",
    "x_test = [clean_str(sent) for sent in x_test]\n",
    "x_test = [s.split(\"|\") for s in x_test]\n",
    "# Generate labels\n",
    "\n",
    "test_positive_labels = [1 for _ in test_positive_examples]\n",
    "test_negative_labels = [0 for _ in test_negative_examples]\n",
    "y_test = np.concatenate([test_positive_labels, test_negative_labels], 0)"
   ]
  },
  {
   "cell_type": "code",
   "execution_count": null,
   "metadata": {},
   "outputs": [],
   "source": [
    "def my_tokenizer(s):\n",
    "    x = [w.lower() for w in s]\n",
    "    \n",
    "    return x"
   ]
  },
  {
   "cell_type": "code",
   "execution_count": null,
   "metadata": {},
   "outputs": [],
   "source": [
    "fstop = open('stopword.txt','r',encoding='utf-8')\n",
    "stop_words = fstop.read().splitlines()\n",
    "ngram_array = ((1,1),(1,2),(1,3),(1,4),(1,5),(1,6),(1,7),(2,2),(2,3),(2,4),(2,5),(2,6),(2,7),(3,3))\n",
    "index= ['seg','model_variation','filter_sizes','precision','recall','f1','accuracy']\n",
    "for ngram in ngram_array:\n",
    "    count_vect = CountVectorizer(ngram_range=ngram,encoding='utf-8',lowercase=False, preprocessor=None, tokenizer=my_tokenizer)\n",
    "    text_clf = Pipeline([('vect', count_vect),('tfidf', TfidfTransformer()),('clf', MLPClassifier())])\n",
    "    text_clf.fit(x_text,y)\n",
    "    predicted = text_clf.predict(x_test)\n",
    "    print('gram: ',ngram,' : ',np.mean(predicted == y_test))\n",
    "    precision = precision_score(y_test,predicted)\n",
    "    recall = recall_score(y_test,predicted)\n",
    "    f1 = f1_score(y_test,predicted)\n",
    "    result = {}\n",
    "    result['seg']=seg\n",
    "    result['model_variation'] = 'MLP'\n",
    "    result['filter_sizes'] = ngram\n",
    "    result['precision']= precision\n",
    "    result['recall']=recall\n",
    "    result['f1']=f1\n",
    "    result['accuracy']= np.mean(predicted == y_test) * 100\n",
    "    print('\\tPrecision:',precision)\n",
    "    print('\\tRecall:',recall)\n",
    "    print('\\tF1:',f1)\n",
    "    \n",
    "    df = pd.DataFrame(columns=index)\n",
    "    df.loc[0]=result\n",
    "    df.to_csv(directory+'Result-5/result_clickbait_MLP.csv', mode='a' , header=False,index=False)"
   ]
  },
  {
   "cell_type": "code",
   "execution_count": null,
   "metadata": {},
   "outputs": [],
   "source": []
  }
 ],
 "metadata": {
  "kernelspec": {
   "display_name": "Python 3",
   "language": "python",
   "name": "python3"
  },
  "language_info": {
   "codemirror_mode": {
    "name": "ipython",
    "version": 3
   },
   "file_extension": ".py",
   "mimetype": "text/x-python",
   "name": "python",
   "nbconvert_exporter": "python",
   "pygments_lexer": "ipython3",
   "version": "3.6.4"
  }
 },
 "nbformat": 4,
 "nbformat_minor": 2
}
